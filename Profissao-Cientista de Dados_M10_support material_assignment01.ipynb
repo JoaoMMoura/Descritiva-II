{
 "cells": [
  {
   "cell_type": "markdown",
   "metadata": {},
   "source": [
    "# Módulo 10 atividade 1"
   ]
  },
  {
   "cell_type": "markdown",
   "metadata": {},
   "source": [
    "Uma instituição financeira quer conhecer melhor o perfil de renda de seus novos clientes para diversos fins, por exemplo, melhor dimensionar o limite de cartões de crédito dos novos clientes, sem necessariamente solicitar olerites ou documentações que impactem na experiência do seu cliente.\n",
    "\n",
    "Para isto, conduziu um estudo com alguns clientes, comprovando suas rendas através de olerites e outros documentos, e pretende construir um modelo preditivo para esta renda com base em algumas variáveis que já possui em seu banco de dados.\n",
    "\n",
    "As variáveis são intuitivas - note que há uma variável 'index' que é um identificador do cliente e que em geral o ```read_csv``` do pandas coloca também uma variável sequencial.\n",
    "\n",
    "Estes dados estão no arquivo ```previsao_de_renda.csv```. Carregue-o em um *dataframe*.\n",
    "\n",
    "1) Avalie a estrutura de correlação das variáveis quantitativas através de um gráfico de \"matriz de dispersão\" e através da avaliação gráfica da matriz de correlações. Veja se você identifica algum padrão interessante ou que te faça sentido."
   ]
  },
  {
   "cell_type": "code",
   "execution_count": 1,
   "metadata": {},
   "outputs": [
    {
     "data": {
      "text/html": [
       "<div>\n",
       "<style scoped>\n",
       "    .dataframe tbody tr th:only-of-type {\n",
       "        vertical-align: middle;\n",
       "    }\n",
       "\n",
       "    .dataframe tbody tr th {\n",
       "        vertical-align: top;\n",
       "    }\n",
       "\n",
       "    .dataframe thead th {\n",
       "        text-align: right;\n",
       "    }\n",
       "</style>\n",
       "<table border=\"1\" class=\"dataframe\">\n",
       "  <thead>\n",
       "    <tr style=\"text-align: right;\">\n",
       "      <th></th>\n",
       "      <th>sexo</th>\n",
       "      <th>posse_de_veiculo</th>\n",
       "      <th>posse_de_imovel</th>\n",
       "      <th>qtd_filhos</th>\n",
       "      <th>tipo_renda</th>\n",
       "      <th>educacao</th>\n",
       "      <th>estado_civil</th>\n",
       "      <th>tipo_residencia</th>\n",
       "      <th>idade</th>\n",
       "      <th>tempo_emprego</th>\n",
       "      <th>qt_pessoas_residencia</th>\n",
       "      <th>renda</th>\n",
       "    </tr>\n",
       "  </thead>\n",
       "  <tbody>\n",
       "    <tr>\n",
       "      <th>0</th>\n",
       "      <td>F</td>\n",
       "      <td>False</td>\n",
       "      <td>True</td>\n",
       "      <td>1</td>\n",
       "      <td>Assalariado</td>\n",
       "      <td>Secundário</td>\n",
       "      <td>Casado</td>\n",
       "      <td>Casa</td>\n",
       "      <td>36</td>\n",
       "      <td>3.575342</td>\n",
       "      <td>3.0</td>\n",
       "      <td>3369.24</td>\n",
       "    </tr>\n",
       "    <tr>\n",
       "      <th>1</th>\n",
       "      <td>M</td>\n",
       "      <td>True</td>\n",
       "      <td>True</td>\n",
       "      <td>0</td>\n",
       "      <td>Empresário</td>\n",
       "      <td>Secundário</td>\n",
       "      <td>Casado</td>\n",
       "      <td>Casa</td>\n",
       "      <td>42</td>\n",
       "      <td>0.860274</td>\n",
       "      <td>2.0</td>\n",
       "      <td>6096.14</td>\n",
       "    </tr>\n",
       "    <tr>\n",
       "      <th>2</th>\n",
       "      <td>M</td>\n",
       "      <td>True</td>\n",
       "      <td>True</td>\n",
       "      <td>2</td>\n",
       "      <td>Assalariado</td>\n",
       "      <td>Superior completo</td>\n",
       "      <td>Casado</td>\n",
       "      <td>Casa</td>\n",
       "      <td>31</td>\n",
       "      <td>8.065753</td>\n",
       "      <td>4.0</td>\n",
       "      <td>5658.98</td>\n",
       "    </tr>\n",
       "    <tr>\n",
       "      <th>3</th>\n",
       "      <td>F</td>\n",
       "      <td>True</td>\n",
       "      <td>False</td>\n",
       "      <td>0</td>\n",
       "      <td>Empresário</td>\n",
       "      <td>Secundário</td>\n",
       "      <td>Casado</td>\n",
       "      <td>Casa</td>\n",
       "      <td>50</td>\n",
       "      <td>1.208219</td>\n",
       "      <td>2.0</td>\n",
       "      <td>7246.69</td>\n",
       "    </tr>\n",
       "    <tr>\n",
       "      <th>4</th>\n",
       "      <td>M</td>\n",
       "      <td>False</td>\n",
       "      <td>False</td>\n",
       "      <td>0</td>\n",
       "      <td>Assalariado</td>\n",
       "      <td>Secundário</td>\n",
       "      <td>Casado</td>\n",
       "      <td>Casa</td>\n",
       "      <td>52</td>\n",
       "      <td>13.873973</td>\n",
       "      <td>2.0</td>\n",
       "      <td>4017.37</td>\n",
       "    </tr>\n",
       "    <tr>\n",
       "      <th>...</th>\n",
       "      <td>...</td>\n",
       "      <td>...</td>\n",
       "      <td>...</td>\n",
       "      <td>...</td>\n",
       "      <td>...</td>\n",
       "      <td>...</td>\n",
       "      <td>...</td>\n",
       "      <td>...</td>\n",
       "      <td>...</td>\n",
       "      <td>...</td>\n",
       "      <td>...</td>\n",
       "      <td>...</td>\n",
       "    </tr>\n",
       "    <tr>\n",
       "      <th>14995</th>\n",
       "      <td>M</td>\n",
       "      <td>True</td>\n",
       "      <td>True</td>\n",
       "      <td>1</td>\n",
       "      <td>Assalariado</td>\n",
       "      <td>Secundário</td>\n",
       "      <td>Casado</td>\n",
       "      <td>Casa</td>\n",
       "      <td>37</td>\n",
       "      <td>2.046575</td>\n",
       "      <td>3.0</td>\n",
       "      <td>1193.29</td>\n",
       "    </tr>\n",
       "    <tr>\n",
       "      <th>14996</th>\n",
       "      <td>M</td>\n",
       "      <td>True</td>\n",
       "      <td>True</td>\n",
       "      <td>1</td>\n",
       "      <td>Servidor público</td>\n",
       "      <td>Superior completo</td>\n",
       "      <td>Casado</td>\n",
       "      <td>Estúdio</td>\n",
       "      <td>30</td>\n",
       "      <td>12.079452</td>\n",
       "      <td>3.0</td>\n",
       "      <td>2519.18</td>\n",
       "    </tr>\n",
       "    <tr>\n",
       "      <th>14997</th>\n",
       "      <td>F</td>\n",
       "      <td>True</td>\n",
       "      <td>True</td>\n",
       "      <td>0</td>\n",
       "      <td>Assalariado</td>\n",
       "      <td>Secundário</td>\n",
       "      <td>Casado</td>\n",
       "      <td>Casa</td>\n",
       "      <td>40</td>\n",
       "      <td>2.161644</td>\n",
       "      <td>2.0</td>\n",
       "      <td>1586.85</td>\n",
       "    </tr>\n",
       "    <tr>\n",
       "      <th>14998</th>\n",
       "      <td>F</td>\n",
       "      <td>False</td>\n",
       "      <td>True</td>\n",
       "      <td>0</td>\n",
       "      <td>Servidor público</td>\n",
       "      <td>Superior completo</td>\n",
       "      <td>Casado</td>\n",
       "      <td>Casa</td>\n",
       "      <td>47</td>\n",
       "      <td>3.295890</td>\n",
       "      <td>2.0</td>\n",
       "      <td>6975.39</td>\n",
       "    </tr>\n",
       "    <tr>\n",
       "      <th>14999</th>\n",
       "      <td>F</td>\n",
       "      <td>True</td>\n",
       "      <td>True</td>\n",
       "      <td>0</td>\n",
       "      <td>Assalariado</td>\n",
       "      <td>Secundário</td>\n",
       "      <td>Casado</td>\n",
       "      <td>Casa</td>\n",
       "      <td>50</td>\n",
       "      <td>3.049315</td>\n",
       "      <td>2.0</td>\n",
       "      <td>993.86</td>\n",
       "    </tr>\n",
       "  </tbody>\n",
       "</table>\n",
       "<p>15000 rows × 12 columns</p>\n",
       "</div>"
      ],
      "text/plain": [
       "      sexo  posse_de_veiculo  posse_de_imovel  qtd_filhos        tipo_renda  \\\n",
       "0        F             False             True           1       Assalariado   \n",
       "1        M              True             True           0        Empresário   \n",
       "2        M              True             True           2       Assalariado   \n",
       "3        F              True            False           0        Empresário   \n",
       "4        M             False            False           0       Assalariado   \n",
       "...    ...               ...              ...         ...               ...   \n",
       "14995    M              True             True           1       Assalariado   \n",
       "14996    M              True             True           1  Servidor público   \n",
       "14997    F              True             True           0       Assalariado   \n",
       "14998    F             False             True           0  Servidor público   \n",
       "14999    F              True             True           0       Assalariado   \n",
       "\n",
       "                educacao estado_civil tipo_residencia  idade  tempo_emprego  \\\n",
       "0             Secundário       Casado            Casa     36       3.575342   \n",
       "1             Secundário       Casado            Casa     42       0.860274   \n",
       "2      Superior completo       Casado            Casa     31       8.065753   \n",
       "3             Secundário       Casado            Casa     50       1.208219   \n",
       "4             Secundário       Casado            Casa     52      13.873973   \n",
       "...                  ...          ...             ...    ...            ...   \n",
       "14995         Secundário       Casado            Casa     37       2.046575   \n",
       "14996  Superior completo       Casado         Estúdio     30      12.079452   \n",
       "14997         Secundário       Casado            Casa     40       2.161644   \n",
       "14998  Superior completo       Casado            Casa     47       3.295890   \n",
       "14999         Secundário       Casado            Casa     50       3.049315   \n",
       "\n",
       "       qt_pessoas_residencia    renda  \n",
       "0                        3.0  3369.24  \n",
       "1                        2.0  6096.14  \n",
       "2                        4.0  5658.98  \n",
       "3                        2.0  7246.69  \n",
       "4                        2.0  4017.37  \n",
       "...                      ...      ...  \n",
       "14995                    3.0  1193.29  \n",
       "14996                    3.0  2519.18  \n",
       "14997                    2.0  1586.85  \n",
       "14998                    2.0  6975.39  \n",
       "14999                    2.0   993.86  \n",
       "\n",
       "[15000 rows x 12 columns]"
      ]
     },
     "execution_count": 1,
     "metadata": {},
     "output_type": "execute_result"
    }
   ],
   "source": [
    "import numpy as np\n",
    "import pandas as pd\n",
    "import matplotlib.pyplot as plt\n",
    "import seaborn as sns\n",
    "\n",
    "df = pd.read_csv('Profissao- Cientista de Dados_M10_support material.csv')\n",
    "df = df[['sexo', 'posse_de_veiculo','posse_de_imovel','qtd_filhos','tipo_renda','educacao','estado_civil','tipo_residencia',\n",
    "        'idade','tempo_emprego','qt_pessoas_residencia','renda']]\n",
    "df"
   ]
  },
  {
   "cell_type": "code",
   "execution_count": 2,
   "metadata": {},
   "outputs": [
    {
     "data": {
      "text/html": [
       "<div>\n",
       "<style scoped>\n",
       "    .dataframe tbody tr th:only-of-type {\n",
       "        vertical-align: middle;\n",
       "    }\n",
       "\n",
       "    .dataframe tbody tr th {\n",
       "        vertical-align: top;\n",
       "    }\n",
       "\n",
       "    .dataframe thead th {\n",
       "        text-align: right;\n",
       "    }\n",
       "</style>\n",
       "<table border=\"1\" class=\"dataframe\">\n",
       "  <thead>\n",
       "    <tr style=\"text-align: right;\">\n",
       "      <th></th>\n",
       "      <th>posse_de_veiculo</th>\n",
       "      <th>posse_de_imovel</th>\n",
       "      <th>qtd_filhos</th>\n",
       "      <th>idade</th>\n",
       "      <th>tempo_emprego</th>\n",
       "      <th>qt_pessoas_residencia</th>\n",
       "      <th>renda</th>\n",
       "    </tr>\n",
       "  </thead>\n",
       "  <tbody>\n",
       "    <tr>\n",
       "      <th>posse_de_veiculo</th>\n",
       "      <td>1.000000</td>\n",
       "      <td>-0.014727</td>\n",
       "      <td>0.107959</td>\n",
       "      <td>-0.157837</td>\n",
       "      <td>-0.087514</td>\n",
       "      <td>0.156009</td>\n",
       "      <td>0.063414</td>\n",
       "    </tr>\n",
       "    <tr>\n",
       "      <th>posse_de_imovel</th>\n",
       "      <td>-0.014727</td>\n",
       "      <td>1.000000</td>\n",
       "      <td>-0.002525</td>\n",
       "      <td>0.122667</td>\n",
       "      <td>0.000112</td>\n",
       "      <td>-0.007180</td>\n",
       "      <td>0.029827</td>\n",
       "    </tr>\n",
       "    <tr>\n",
       "      <th>qtd_filhos</th>\n",
       "      <td>0.107959</td>\n",
       "      <td>-0.002525</td>\n",
       "      <td>1.000000</td>\n",
       "      <td>-0.364303</td>\n",
       "      <td>-0.074250</td>\n",
       "      <td>0.896488</td>\n",
       "      <td>0.009567</td>\n",
       "    </tr>\n",
       "    <tr>\n",
       "      <th>idade</th>\n",
       "      <td>-0.157837</td>\n",
       "      <td>0.122667</td>\n",
       "      <td>-0.364303</td>\n",
       "      <td>1.000000</td>\n",
       "      <td>0.323934</td>\n",
       "      <td>-0.338805</td>\n",
       "      <td>0.042570</td>\n",
       "    </tr>\n",
       "    <tr>\n",
       "      <th>tempo_emprego</th>\n",
       "      <td>-0.087514</td>\n",
       "      <td>0.000112</td>\n",
       "      <td>-0.074250</td>\n",
       "      <td>0.323934</td>\n",
       "      <td>1.000000</td>\n",
       "      <td>-0.065748</td>\n",
       "      <td>0.394235</td>\n",
       "    </tr>\n",
       "    <tr>\n",
       "      <th>qt_pessoas_residencia</th>\n",
       "      <td>0.156009</td>\n",
       "      <td>-0.007180</td>\n",
       "      <td>0.896488</td>\n",
       "      <td>-0.338805</td>\n",
       "      <td>-0.065748</td>\n",
       "      <td>1.000000</td>\n",
       "      <td>0.020977</td>\n",
       "    </tr>\n",
       "    <tr>\n",
       "      <th>renda</th>\n",
       "      <td>0.063414</td>\n",
       "      <td>0.029827</td>\n",
       "      <td>0.009567</td>\n",
       "      <td>0.042570</td>\n",
       "      <td>0.394235</td>\n",
       "      <td>0.020977</td>\n",
       "      <td>1.000000</td>\n",
       "    </tr>\n",
       "  </tbody>\n",
       "</table>\n",
       "</div>"
      ],
      "text/plain": [
       "                       posse_de_veiculo  posse_de_imovel  qtd_filhos  \\\n",
       "posse_de_veiculo               1.000000        -0.014727    0.107959   \n",
       "posse_de_imovel               -0.014727         1.000000   -0.002525   \n",
       "qtd_filhos                     0.107959        -0.002525    1.000000   \n",
       "idade                         -0.157837         0.122667   -0.364303   \n",
       "tempo_emprego                 -0.087514         0.000112   -0.074250   \n",
       "qt_pessoas_residencia          0.156009        -0.007180    0.896488   \n",
       "renda                          0.063414         0.029827    0.009567   \n",
       "\n",
       "                          idade  tempo_emprego  qt_pessoas_residencia  \\\n",
       "posse_de_veiculo      -0.157837      -0.087514               0.156009   \n",
       "posse_de_imovel        0.122667       0.000112              -0.007180   \n",
       "qtd_filhos            -0.364303      -0.074250               0.896488   \n",
       "idade                  1.000000       0.323934              -0.338805   \n",
       "tempo_emprego          0.323934       1.000000              -0.065748   \n",
       "qt_pessoas_residencia -0.338805      -0.065748               1.000000   \n",
       "renda                  0.042570       0.394235               0.020977   \n",
       "\n",
       "                          renda  \n",
       "posse_de_veiculo       0.063414  \n",
       "posse_de_imovel        0.029827  \n",
       "qtd_filhos             0.009567  \n",
       "idade                  0.042570  \n",
       "tempo_emprego          0.394235  \n",
       "qt_pessoas_residencia  0.020977  \n",
       "renda                  1.000000  "
      ]
     },
     "execution_count": 2,
     "metadata": {},
     "output_type": "execute_result"
    }
   ],
   "source": [
    "df.corr()"
   ]
  },
  {
   "cell_type": "code",
   "execution_count": 3,
   "metadata": {},
   "outputs": [
    {
     "data": {
      "text/plain": [
       "<seaborn.matrix.ClusterGrid at 0x23aa07cdbe0>"
      ]
     },
     "execution_count": 3,
     "metadata": {},
     "output_type": "execute_result"
    },
    {
     "data": {
      "image/png": "[encoded data removed]",
      "text/plain": [
       "<Figure size 720x720 with 4 Axes>"
      ]
     },
     "metadata": {
      "needs_background": "light"
     },
     "output_type": "display_data"
    }
   ],
   "source": [
    "cmap = sns.diverging_palette(h_neg=125, h_pos=350, as_cmap=True, sep = 60, center = 'light')\n",
    "\n",
    "sns.clustermap(df.corr(), figsize=(10, 10), center = 0, cmap=cmap)"
   ]
  },
  {
   "cell_type": "markdown",
   "metadata": {},
   "source": [
    "O tempo de emprego e a idade tem uma relação mediana com a renda, assim como a qtd de filhos e pessoas na residência."
   ]
  },
  {
   "cell_type": "markdown",
   "metadata": {},
   "source": [
    "2) Avalie um gráfico de dispersão (*scatterplot*) específico para as duas variáveis mais correlacionadas com *renda*."
   ]
  },
  {
   "cell_type": "code",
   "execution_count": 5,
   "metadata": {},
   "outputs": [
    {
     "data": {
      "text/plain": [
       "<AxesSubplot:xlabel='tempo_emprego', ylabel='renda'>"
      ]
     },
     "execution_count": 5,
     "metadata": {},
     "output_type": "execute_result"
    },
    {
     "data": {
      "image/png": "[encoded data removed]",
      "text/plain": [
       "<Figure size 432x288 with 1 Axes>"
      ]
     },
     "metadata": {
      "needs_background": "light"
     },
     "output_type": "display_data"
    }
   ],
   "source": [
    "sns.regplot(x='tempo_emprego', y='renda', data = df)\n",
    "\n",
    "# O gráfico não mostra fielmente se quanto maior o tempo de emprego, maior a renda."
   ]
  },
  {
   "cell_type": "markdown",
   "metadata": {},
   "source": [
    "3) Na su aopinião, há outliers na variável renda?"
   ]
  },
  {
   "cell_type": "code",
   "execution_count": 6,
   "metadata": {},
   "outputs": [
    {
     "data": {
      "text/plain": [
       "<AxesSubplot:xlabel='x', ylabel='y'>"
      ]
     },
     "execution_count": 6,
     "metadata": {},
     "output_type": "execute_result"
    },
    {
     "data": {
      "image/png": "[encoded data removed]",
      "text/plain": [
       "<Figure size 432x288 with 1 Axes>"
      ]
     },
     "metadata": {
      "needs_background": "light"
     },
     "output_type": "display_data"
    }
   ],
   "source": [
    "df_rank = df[['renda', 'tempo_emprego']]\n",
    "df_rank = pd.concat([df_rank, df_rank.rank()], axis=1)\n",
    "df_rank.columns = ['x', 'y', 'x_rank', 'y_rank']\n",
    "df_rank.corr()\n",
    "sns.regplot(x='x', y='y', data = df_rank)\n",
    "\n",
    "#Não há outliers que causem preocupações na análise do gráfico. "
   ]
  },
  {
   "cell_type": "markdown",
   "metadata": {},
   "source": [
    "4) Calcule o logaritmo da variável renda e repita a sequência de análise"
   ]
  },
  {
   "cell_type": "code",
   "execution_count": 7,
   "metadata": {},
   "outputs": [
    {
     "data": {
      "text/plain": [
       "<AxesSubplot:xlabel='tempo_emprego', ylabel='log_renda'>"
      ]
     },
     "execution_count": 7,
     "metadata": {},
     "output_type": "execute_result"
    },
    {
     "data": {
      "image/png": "[encoded data removed]",
      "text/plain": [
       "<Figure size 432x288 with 1 Axes>"
      ]
     },
     "metadata": {
      "needs_background": "light"
     },
     "output_type": "display_data"
    }
   ],
   "source": [
    "df['log_renda'] = np.log(df['renda'])\n",
    "sns.regplot(x='tempo_emprego', y='log_renda', data = df)"
   ]
  },
  {
   "cell_type": "markdown",
   "metadata": {},
   "source": [
    "5) A aplicação do LOG você acha que melhorou ou piorou a análise?"
   ]
  },
  {
   "cell_type": "markdown",
   "metadata": {},
   "source": [
    "Piorou. Como podemos observar abaixo, log_rendaXtempo_emprego é menor do que rendaXtempo_emprego, o que significa que o outlier acaba enfraquecendo a correlação."
   ]
  },
  {
   "cell_type": "code",
   "execution_count": 8,
   "metadata": {},
   "outputs": [
    {
     "data": {
      "text/html": [
       "<div>\n",
       "<style scoped>\n",
       "    .dataframe tbody tr th:only-of-type {\n",
       "        vertical-align: middle;\n",
       "    }\n",
       "\n",
       "    .dataframe tbody tr th {\n",
       "        vertical-align: top;\n",
       "    }\n",
       "\n",
       "    .dataframe thead th {\n",
       "        text-align: right;\n",
       "    }\n",
       "</style>\n",
       "<table border=\"1\" class=\"dataframe\">\n",
       "  <thead>\n",
       "    <tr style=\"text-align: right;\">\n",
       "      <th></th>\n",
       "      <th>posse_de_veiculo</th>\n",
       "      <th>posse_de_imovel</th>\n",
       "      <th>qtd_filhos</th>\n",
       "      <th>idade</th>\n",
       "      <th>tempo_emprego</th>\n",
       "      <th>qt_pessoas_residencia</th>\n",
       "      <th>renda</th>\n",
       "      <th>log_renda</th>\n",
       "    </tr>\n",
       "  </thead>\n",
       "  <tbody>\n",
       "    <tr>\n",
       "      <th>posse_de_veiculo</th>\n",
       "      <td>1.000000</td>\n",
       "      <td>-0.014727</td>\n",
       "      <td>0.107959</td>\n",
       "      <td>-0.157837</td>\n",
       "      <td>-0.087514</td>\n",
       "      <td>0.156009</td>\n",
       "      <td>0.063414</td>\n",
       "      <td>0.090529</td>\n",
       "    </tr>\n",
       "    <tr>\n",
       "      <th>posse_de_imovel</th>\n",
       "      <td>-0.014727</td>\n",
       "      <td>1.000000</td>\n",
       "      <td>-0.002525</td>\n",
       "      <td>0.122667</td>\n",
       "      <td>0.000112</td>\n",
       "      <td>-0.007180</td>\n",
       "      <td>0.029827</td>\n",
       "      <td>0.045297</td>\n",
       "    </tr>\n",
       "    <tr>\n",
       "      <th>qtd_filhos</th>\n",
       "      <td>0.107959</td>\n",
       "      <td>-0.002525</td>\n",
       "      <td>1.000000</td>\n",
       "      <td>-0.364303</td>\n",
       "      <td>-0.074250</td>\n",
       "      <td>0.896488</td>\n",
       "      <td>0.009567</td>\n",
       "      <td>0.023743</td>\n",
       "    </tr>\n",
       "    <tr>\n",
       "      <th>idade</th>\n",
       "      <td>-0.157837</td>\n",
       "      <td>0.122667</td>\n",
       "      <td>-0.364303</td>\n",
       "      <td>1.000000</td>\n",
       "      <td>0.323934</td>\n",
       "      <td>-0.338805</td>\n",
       "      <td>0.042570</td>\n",
       "      <td>0.024712</td>\n",
       "    </tr>\n",
       "    <tr>\n",
       "      <th>tempo_emprego</th>\n",
       "      <td>-0.087514</td>\n",
       "      <td>0.000112</td>\n",
       "      <td>-0.074250</td>\n",
       "      <td>0.323934</td>\n",
       "      <td>1.000000</td>\n",
       "      <td>-0.065748</td>\n",
       "      <td>0.394235</td>\n",
       "      <td>0.379556</td>\n",
       "    </tr>\n",
       "    <tr>\n",
       "      <th>qt_pessoas_residencia</th>\n",
       "      <td>0.156009</td>\n",
       "      <td>-0.007180</td>\n",
       "      <td>0.896488</td>\n",
       "      <td>-0.338805</td>\n",
       "      <td>-0.065748</td>\n",
       "      <td>1.000000</td>\n",
       "      <td>0.020977</td>\n",
       "      <td>0.036267</td>\n",
       "    </tr>\n",
       "    <tr>\n",
       "      <th>renda</th>\n",
       "      <td>0.063414</td>\n",
       "      <td>0.029827</td>\n",
       "      <td>0.009567</td>\n",
       "      <td>0.042570</td>\n",
       "      <td>0.394235</td>\n",
       "      <td>0.020977</td>\n",
       "      <td>1.000000</td>\n",
       "      <td>0.835734</td>\n",
       "    </tr>\n",
       "    <tr>\n",
       "      <th>log_renda</th>\n",
       "      <td>0.090529</td>\n",
       "      <td>0.045297</td>\n",
       "      <td>0.023743</td>\n",
       "      <td>0.024712</td>\n",
       "      <td>0.379556</td>\n",
       "      <td>0.036267</td>\n",
       "      <td>0.835734</td>\n",
       "      <td>1.000000</td>\n",
       "    </tr>\n",
       "  </tbody>\n",
       "</table>\n",
       "</div>"
      ],
      "text/plain": [
       "                       posse_de_veiculo  posse_de_imovel  qtd_filhos  \\\n",
       "posse_de_veiculo               1.000000        -0.014727    0.107959   \n",
       "posse_de_imovel               -0.014727         1.000000   -0.002525   \n",
       "qtd_filhos                     0.107959        -0.002525    1.000000   \n",
       "idade                         -0.157837         0.122667   -0.364303   \n",
       "tempo_emprego                 -0.087514         0.000112   -0.074250   \n",
       "qt_pessoas_residencia          0.156009        -0.007180    0.896488   \n",
       "renda                          0.063414         0.029827    0.009567   \n",
       "log_renda                      0.090529         0.045297    0.023743   \n",
       "\n",
       "                          idade  tempo_emprego  qt_pessoas_residencia  \\\n",
       "posse_de_veiculo      -0.157837      -0.087514               0.156009   \n",
       "posse_de_imovel        0.122667       0.000112              -0.007180   \n",
       "qtd_filhos            -0.364303      -0.074250               0.896488   \n",
       "idade                  1.000000       0.323934              -0.338805   \n",
       "tempo_emprego          0.323934       1.000000              -0.065748   \n",
       "qt_pessoas_residencia -0.338805      -0.065748               1.000000   \n",
       "renda                  0.042570       0.394235               0.020977   \n",
       "log_renda              0.024712       0.379556               0.036267   \n",
       "\n",
       "                          renda  log_renda  \n",
       "posse_de_veiculo       0.063414   0.090529  \n",
       "posse_de_imovel        0.029827   0.045297  \n",
       "qtd_filhos             0.009567   0.023743  \n",
       "idade                  0.042570   0.024712  \n",
       "tempo_emprego          0.394235   0.379556  \n",
       "qt_pessoas_residencia  0.020977   0.036267  \n",
       "renda                  1.000000   0.835734  \n",
       "log_renda              0.835734   1.000000  "
      ]
     },
     "execution_count": 8,
     "metadata": {},
     "output_type": "execute_result"
    }
   ],
   "source": [
    "df.corr()"
   ]
  }
 ],
 "metadata": {
  "kernelspec": {
   "display_name": "Python 3 (ipykernel)",
   "language": "python",
   "name": "python3"
  },
  "language_info": {
   "codemirror_mode": {
    "name": "ipython",
    "version": 3
   },
   "file_extension": ".py",
   "mimetype": "text/x-python",
   "name": "python",
   "nbconvert_exporter": "python",
   "pygments_lexer": "ipython3",
   "version": "3.9.7"
  }
 },
 "nbformat": 4,
 "nbformat_minor": 4
}
